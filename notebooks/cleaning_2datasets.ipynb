{
 "cells": [
  {
   "cell_type": "code",
   "execution_count": 1,
   "metadata": {},
   "outputs": [
    {
     "name": "stderr",
     "output_type": "stream",
     "text": [
      "C:\\Users\\Juan\\AppData\\Local\\Temp\\ipykernel_23476\\3953103190.py:2: DeprecationWarning: \n",
      "Pyarrow will become a required dependency of pandas in the next major release of pandas (pandas 3.0),\n",
      "(to allow more performant data types, such as the Arrow string type, and better interoperability with other libraries)\n",
      "but was not found to be installed on your system.\n",
      "If this would cause problems for you,\n",
      "please provide us feedback at https://github.com/pandas-dev/pandas/issues/54466\n",
      "        \n",
      "  import pandas as pd\n"
     ]
    }
   ],
   "source": [
    "import numpy as np\n",
    "import pandas as pd\n",
    "from PIL import Image\n",
    "import os\n",
    "import random\n",
    "import matplotlib.pyplot as plt"
   ]
  },
  {
   "cell_type": "code",
   "execution_count": 2,
   "metadata": {},
   "outputs": [
    {
     "name": "stdout",
     "output_type": "stream",
     "text": [
      "anger images processed\n",
      "contempt images processed\n",
      "disgust images processed\n",
      "fear images processed\n",
      "happiness images processed\n",
      "neutral images processed\n",
      "sadness images processed\n",
      "surprise images processed\n"
     ]
    }
   ],
   "source": [
    "img_folder_path = './../data/raw/ferplus_affectnet/'\n",
    "\n",
    "pixel_values_list = []\n",
    "labels_list = []\n",
    "\n",
    "for category in os.listdir(img_folder_path):\n",
    "    category_path = os.path.join(img_folder_path, category)\n",
    "    \n",
    "    if os.path.isdir(category_path):\n",
    "        # Iterating through images in the subfolder\n",
    "        for file_name in os.listdir(category_path):\n",
    "            file_path = os.path.join(category_path, file_name)\n",
    "            \n",
    "            if file_path.lower().endswith(('.png', '.jpg', '.jpeg')):\n",
    "                img = Image.open(file_path)\n",
    "                \n",
    "                # Resize image to 48x48\n",
    "                img = img.resize((48, 48))\n",
    "\n",
    "                # Converting image to grayscale\n",
    "                img = img.convert('L')\n",
    "                \n",
    "                # Converting the image data to a flat list of pixel values\n",
    "                pixel_values = list(img.getdata())\n",
    "                \n",
    "                # Append the pixel values and corresponding label to the lists\n",
    "                pixel_values_list.append(pixel_values)\n",
    "                labels_list.append(category)\n",
    "\n",
    "    print(f'{category} images processed')\n",
    "\n",
    "# Creating dataframe with all image data\n",
    "columns = [f'Pixel_{i+1}' for i in range(len(pixel_values_list[0]))]\n",
    "df_img = pd.DataFrame(pixel_values_list, columns=columns)\n",
    "df_img['Label'] = labels_list"
   ]
  },
  {
   "cell_type": "code",
   "execution_count": 3,
   "metadata": {},
   "outputs": [
    {
     "data": {
      "text/html": [
       "<div>\n",
       "<style scoped>\n",
       "    .dataframe tbody tr th:only-of-type {\n",
       "        vertical-align: middle;\n",
       "    }\n",
       "\n",
       "    .dataframe tbody tr th {\n",
       "        vertical-align: top;\n",
       "    }\n",
       "\n",
       "    .dataframe thead th {\n",
       "        text-align: right;\n",
       "    }\n",
       "</style>\n",
       "<table border=\"1\" class=\"dataframe\">\n",
       "  <thead>\n",
       "    <tr style=\"text-align: right;\">\n",
       "      <th></th>\n",
       "      <th>Pixel_1</th>\n",
       "      <th>Pixel_2</th>\n",
       "      <th>Pixel_3</th>\n",
       "      <th>Pixel_4</th>\n",
       "      <th>Pixel_5</th>\n",
       "      <th>Pixel_6</th>\n",
       "      <th>Pixel_7</th>\n",
       "      <th>Pixel_8</th>\n",
       "      <th>Pixel_9</th>\n",
       "      <th>Pixel_10</th>\n",
       "      <th>...</th>\n",
       "      <th>Pixel_2296</th>\n",
       "      <th>Pixel_2297</th>\n",
       "      <th>Pixel_2298</th>\n",
       "      <th>Pixel_2299</th>\n",
       "      <th>Pixel_2300</th>\n",
       "      <th>Pixel_2301</th>\n",
       "      <th>Pixel_2302</th>\n",
       "      <th>Pixel_2303</th>\n",
       "      <th>Pixel_2304</th>\n",
       "      <th>Label</th>\n",
       "    </tr>\n",
       "  </thead>\n",
       "  <tbody>\n",
       "    <tr>\n",
       "      <th>0</th>\n",
       "      <td>30</td>\n",
       "      <td>24</td>\n",
       "      <td>21</td>\n",
       "      <td>23</td>\n",
       "      <td>25</td>\n",
       "      <td>25</td>\n",
       "      <td>49</td>\n",
       "      <td>67</td>\n",
       "      <td>84</td>\n",
       "      <td>103</td>\n",
       "      <td>...</td>\n",
       "      <td>106</td>\n",
       "      <td>111</td>\n",
       "      <td>148</td>\n",
       "      <td>137</td>\n",
       "      <td>176</td>\n",
       "      <td>174</td>\n",
       "      <td>172</td>\n",
       "      <td>173</td>\n",
       "      <td>173</td>\n",
       "      <td>anger</td>\n",
       "    </tr>\n",
       "    <tr>\n",
       "      <th>1</th>\n",
       "      <td>123</td>\n",
       "      <td>125</td>\n",
       "      <td>124</td>\n",
       "      <td>142</td>\n",
       "      <td>209</td>\n",
       "      <td>226</td>\n",
       "      <td>234</td>\n",
       "      <td>236</td>\n",
       "      <td>231</td>\n",
       "      <td>232</td>\n",
       "      <td>...</td>\n",
       "      <td>103</td>\n",
       "      <td>116</td>\n",
       "      <td>111</td>\n",
       "      <td>105</td>\n",
       "      <td>105</td>\n",
       "      <td>103</td>\n",
       "      <td>97</td>\n",
       "      <td>91</td>\n",
       "      <td>89</td>\n",
       "      <td>anger</td>\n",
       "    </tr>\n",
       "    <tr>\n",
       "      <th>2</th>\n",
       "      <td>236</td>\n",
       "      <td>230</td>\n",
       "      <td>225</td>\n",
       "      <td>226</td>\n",
       "      <td>228</td>\n",
       "      <td>209</td>\n",
       "      <td>199</td>\n",
       "      <td>193</td>\n",
       "      <td>196</td>\n",
       "      <td>211</td>\n",
       "      <td>...</td>\n",
       "      <td>192</td>\n",
       "      <td>190</td>\n",
       "      <td>186</td>\n",
       "      <td>171</td>\n",
       "      <td>144</td>\n",
       "      <td>144</td>\n",
       "      <td>152</td>\n",
       "      <td>155</td>\n",
       "      <td>173</td>\n",
       "      <td>anger</td>\n",
       "    </tr>\n",
       "    <tr>\n",
       "      <th>3</th>\n",
       "      <td>255</td>\n",
       "      <td>82</td>\n",
       "      <td>0</td>\n",
       "      <td>3</td>\n",
       "      <td>0</td>\n",
       "      <td>0</td>\n",
       "      <td>0</td>\n",
       "      <td>0</td>\n",
       "      <td>0</td>\n",
       "      <td>0</td>\n",
       "      <td>...</td>\n",
       "      <td>101</td>\n",
       "      <td>217</td>\n",
       "      <td>255</td>\n",
       "      <td>198</td>\n",
       "      <td>143</td>\n",
       "      <td>236</td>\n",
       "      <td>254</td>\n",
       "      <td>254</td>\n",
       "      <td>254</td>\n",
       "      <td>anger</td>\n",
       "    </tr>\n",
       "    <tr>\n",
       "      <th>4</th>\n",
       "      <td>206</td>\n",
       "      <td>208</td>\n",
       "      <td>209</td>\n",
       "      <td>212</td>\n",
       "      <td>214</td>\n",
       "      <td>216</td>\n",
       "      <td>216</td>\n",
       "      <td>219</td>\n",
       "      <td>221</td>\n",
       "      <td>222</td>\n",
       "      <td>...</td>\n",
       "      <td>38</td>\n",
       "      <td>42</td>\n",
       "      <td>50</td>\n",
       "      <td>47</td>\n",
       "      <td>26</td>\n",
       "      <td>31</td>\n",
       "      <td>29</td>\n",
       "      <td>40</td>\n",
       "      <td>5</td>\n",
       "      <td>anger</td>\n",
       "    </tr>\n",
       "  </tbody>\n",
       "</table>\n",
       "<p>5 rows × 2305 columns</p>\n",
       "</div>"
      ],
      "text/plain": [
       "   Pixel_1  Pixel_2  Pixel_3  Pixel_4  Pixel_5  Pixel_6  Pixel_7  Pixel_8  \\\n",
       "0       30       24       21       23       25       25       49       67   \n",
       "1      123      125      124      142      209      226      234      236   \n",
       "2      236      230      225      226      228      209      199      193   \n",
       "3      255       82        0        3        0        0        0        0   \n",
       "4      206      208      209      212      214      216      216      219   \n",
       "\n",
       "   Pixel_9  Pixel_10  ...  Pixel_2296  Pixel_2297  Pixel_2298  Pixel_2299  \\\n",
       "0       84       103  ...         106         111         148         137   \n",
       "1      231       232  ...         103         116         111         105   \n",
       "2      196       211  ...         192         190         186         171   \n",
       "3        0         0  ...         101         217         255         198   \n",
       "4      221       222  ...          38          42          50          47   \n",
       "\n",
       "   Pixel_2300  Pixel_2301  Pixel_2302  Pixel_2303  Pixel_2304  Label  \n",
       "0         176         174         172         173         173  anger  \n",
       "1         105         103          97          91          89  anger  \n",
       "2         144         144         152         155         173  anger  \n",
       "3         143         236         254         254         254  anger  \n",
       "4          26          31          29          40           5  anger  \n",
       "\n",
       "[5 rows x 2305 columns]"
      ]
     },
     "execution_count": 3,
     "metadata": {},
     "output_type": "execute_result"
    }
   ],
   "source": [
    "# Checking first few rows\n",
    "\n",
    "df_img.head()"
   ]
  },
  {
   "cell_type": "code",
   "execution_count": 4,
   "metadata": {},
   "outputs": [
    {
     "data": {
      "text/plain": [
       "(64527, 2305)"
      ]
     },
     "execution_count": 4,
     "metadata": {},
     "output_type": "execute_result"
    }
   ],
   "source": [
    "# Checking shape of the dataframe, columns should be 48*48 + 1\n",
    "\n",
    "df_img.shape"
   ]
  },
  {
   "cell_type": "code",
   "execution_count": 5,
   "metadata": {},
   "outputs": [
    {
     "data": {
      "text/plain": [
       "True"
      ]
     },
     "execution_count": 5,
     "metadata": {},
     "output_type": "execute_result"
    }
   ],
   "source": [
    "# Checking if all the columns except the last one are integers\n",
    "\n",
    "(df_img.drop(columns='Label').dtypes == 'int64').all()"
   ]
  },
  {
   "cell_type": "code",
   "execution_count": 6,
   "metadata": {},
   "outputs": [
    {
     "data": {
      "image/png": "[encoded data removed]",
      "text/plain": [
       "<Figure size 640x480 with 1 Axes>"
      ]
     },
     "metadata": {},
     "output_type": "display_data"
    }
   ],
   "source": [
    "# Plotting a random image from the dataframe\n",
    "\n",
    "pick = random.randint(0, len(df_img))\n",
    "\n",
    "image_array = df_img.drop(columns='Label').iloc[pick, :].values.reshape(48, 48)\n",
    "\n",
    "plt.imshow(image_array, cmap='gray')\n",
    "plt.title(df_img.iloc[pick, -1])\n",
    "plt.show()"
   ]
  },
  {
   "cell_type": "code",
   "execution_count": 7,
   "metadata": {},
   "outputs": [],
   "source": [
    "df_img.to_csv('./../data/cleaned/ferplus_affectnet.csv', index=False)"
   ]
  }
 ],
 "metadata": {
  "kernelspec": {
   "display_name": "fp-venv",
   "language": "python",
   "name": "python3"
  },
  "language_info": {
   "codemirror_mode": {
    "name": "ipython",
    "version": 3
   },
   "file_extension": ".py",
   "mimetype": "text/x-python",
   "name": "python",
   "nbconvert_exporter": "python",
   "pygments_lexer": "ipython3",
   "version": "3.9.7"
  }
 },
 "nbformat": 4,
 "nbformat_minor": 2
}
