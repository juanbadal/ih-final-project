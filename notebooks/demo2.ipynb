{
 "cells": [
  {
   "cell_type": "code",
   "execution_count": 1,
   "metadata": {},
   "outputs": [
    {
     "name": "stderr",
     "output_type": "stream",
     "text": [
      "C:\\Users\\Juan\\AppData\\Local\\Temp\\ipykernel_20764\\2697553199.py:2: DeprecationWarning: \n",
      "Pyarrow will become a required dependency of pandas in the next major release of pandas (pandas 3.0),\n",
      "(to allow more performant data types, such as the Arrow string type, and better interoperability with other libraries)\n",
      "but was not found to be installed on your system.\n",
      "If this would cause problems for you,\n",
      "please provide us feedback at https://github.com/pandas-dev/pandas/issues/54466\n",
      "        \n",
      "  import pandas as pd\n"
     ]
    }
   ],
   "source": [
    "import numpy as np\n",
    "import pandas as pd\n",
    "import tensorflow as tf\n",
    "import matplotlib.pyplot as plt\n",
    "import seaborn as sns\n",
    "import os\n",
    "import pickle\n",
    "from PIL import Image\n",
    "from tensorflow.keras.models import load_model"
   ]
  },
  {
   "cell_type": "code",
   "execution_count": 2,
   "metadata": {},
   "outputs": [],
   "source": [
    "# Function to load an image, resize to 96x96, convert to gray scale and save in desired path\n",
    "\n",
    "def load_process_save_image(image_filename: str,\n",
    "                       target_size: tuple=(48, 48),\n",
    "                       dir_path: str='./../data/raw/new_images/',\n",
    "                       output_path: str='./../data/cleaned/new_images/'):\n",
    "    '''\n",
    "    - Takes an image (image_filename) from dir_path\n",
    "    - Loads it into the notebook\n",
    "    - Resizes to 96x96 to fit with the rest of the data\n",
    "    - Transforms into grayscale\n",
    "    - Saves the transformed image in output_path\n",
    "    '''\n",
    "    # Create output_path if it does not exist\n",
    "    if not os.path.exists(output_path):\n",
    "        os.makedirs(output_path)\n",
    "\n",
    "    if image_filename.endswith('.jpg') or image_filename.endswith('.jpeg') or image_filename.endswith('.png'):\n",
    "        img_path = os.path.join(dir_path, image_filename)\n",
    "        img = Image.open(img_path)\n",
    "\n",
    "        # Resize image to 48x48\n",
    "        img_resized = img.resize(target_size)\n",
    "\n",
    "        # Convert image to grayscale\n",
    "        img_grayscale = img_resized.convert('L')\n",
    "\n",
    "        # Save image in output_path\n",
    "        output_filename = os.path.join(output_path, image_filename)\n",
    "        img_grayscale.save(output_filename)\n",
    "\n",
    "    print(f'{image_filename} image processed')\n"
   ]
  },
  {
   "cell_type": "code",
   "execution_count": 3,
   "metadata": {},
   "outputs": [],
   "source": [
    "# Function to normalize pixel values\n",
    "\n",
    "def normalize(value):\n",
    "    '''\n",
    "    Normalized pixel values dividing by the max value.\n",
    "    '''\n",
    "    return value/255"
   ]
  },
  {
   "cell_type": "code",
   "execution_count": 4,
   "metadata": {},
   "outputs": [],
   "source": [
    "# Function to convert the image into an array with pixel values\n",
    "\n",
    "def image_to_array(image_filename: str,\n",
    "                   dir_path: str='./../data/cleaned/new_images/',\n",
    "                   desired_shape: tuple=(-1, 48, 48, 1)) -> np.array:\n",
    "    '''\n",
    "    Converts image file into pixel values as a numpy array. Each element of the array equals to the value of a pixel, from top left to bottom right of the image.\n",
    "    Normalizes pixel values dividing each by 255.\n",
    "    Reshapes image data to prepare it as input for nn model.\n",
    "    Inputs:\n",
    "    - filename: name of the image file\n",
    "    - dir_path: path of the directory containing the image\n",
    "    Outputs:\n",
    "    - \n",
    "    '''\n",
    "    filepath = os.path.join(dir_path, image_filename)\n",
    "    \n",
    "    img = Image.open(filepath)\n",
    "\n",
    "    image_data = np.array(img)\n",
    "\n",
    "    image_data_flattened = image_data.flatten()\n",
    "\n",
    "    image_data_normalized = normalize(image_data_flattened)\n",
    "\n",
    "    image_data_reshaped = image_data_normalized.reshape(desired_shape)\n",
    "\n",
    "    return image_data_reshaped"
   ]
  },
  {
   "cell_type": "code",
   "execution_count": 5,
   "metadata": {},
   "outputs": [],
   "source": [
    "# Function to load a HDF5 model\n",
    "\n",
    "def load_h5_model(model_filename: str, dir_path_models: str='./../models/'):\n",
    "    '''\n",
    "    Loads a scaler saved as a HDF5 file.\n",
    "    '''\n",
    "    model_path = os.path.join(dir_path_models, model_filename)\n",
    "    \n",
    "    model = load_model(model_path)\n",
    "    \n",
    "    return model"
   ]
  },
  {
   "cell_type": "code",
   "execution_count": 6,
   "metadata": {},
   "outputs": [],
   "source": [
    "# Function to obtain model predictions\n",
    "\n",
    "def predict_image_label(model, \n",
    "                        image_data_reshaped,\n",
    "                        labels: list=['anger', 'contempt', 'disgust', 'fear', 'happiness', 'neutral', 'sadness', 'surprise'],):\n",
    "\n",
    "    pred_proba = model.predict(image_data_reshaped)\n",
    "\n",
    "    pred = np.argmax(pred_proba)\n",
    "\n",
    "    facial_exp = labels[pred]\n",
    "\n",
    "    return facial_exp, pred_proba"
   ]
  },
  {
   "cell_type": "code",
   "execution_count": 7,
   "metadata": {},
   "outputs": [],
   "source": [
    "# Function to plot the image and the class probabilities\n",
    "\n",
    "def plot_image_prediction(image_filename: str,\n",
    "                          pred_proba,\n",
    "                          images_dir: str='./../data/cleaned/new_images/',\n",
    "                          labels: list=['anger', 'contempt', 'disgust', 'fear', 'happiness', 'neutral', 'sadness', 'surprise']):\n",
    "\n",
    "    '''\n",
    "    Plots an image and a barplot with the prediction probability for each class.\n",
    "    Inputs:\n",
    "    - image_filename: name of the image file\n",
    "    - images_dir: path of the directory where the images are saved\n",
    "    Outputs:\n",
    "    - None (seaborn plot with 2 axes)\n",
    "    '''\n",
    "\n",
    "    image_filepath = os.path.join(images_dir, image_filename)\n",
    "    image_to_plot = Image.open(image_filepath)\n",
    "\n",
    "    fig, axes = plt.subplots(1, 2, figsize=(12, 8), gridspec_kw={'width_ratios': [2, 5]})\n",
    "\n",
    "    axes[0].imshow(image_to_plot, cmap='gray')\n",
    "    axes[0].set_title('Image')\n",
    "\n",
    "    sns.barplot(x=labels, y=pred_proba[0], hue=labels, palette='Set2', ax=axes[1])\n",
    "    axes[1].set_title('Predictions')\n",
    "    plt.show()"
   ]
  },
  {
   "cell_type": "code",
   "execution_count": 8,
   "metadata": {},
   "outputs": [],
   "source": [
    "# Master function for demo\n",
    "\n",
    "def demo_image_fe_pred(image_filename: str, model_filename: str):\n",
    "    \n",
    "    '''\n",
    "    Plots and image and the class probability predictions for each facial expression.\n",
    "    Inputs:\n",
    "    - image_name: image file name\n",
    "    Outputs:\n",
    "    - None (image and class probability plot)\n",
    "    '''\n",
    "\n",
    "    load_process_save_image(image_filename=image_filename)\n",
    "\n",
    "    image_data_reshaped = image_to_array(image_filename=image_filename)\n",
    "\n",
    "    model = load_h5_model(model_filename=model_filename)\n",
    "\n",
    "    facial_exp, pred_proba = predict_image_label(model, image_data_reshaped=image_data_reshaped)\n",
    "\n",
    "    plot_image_prediction(image_filename=image_filename, pred_proba=pred_proba)"
   ]
  },
  {
   "cell_type": "code",
   "execution_count": 10,
   "metadata": {},
   "outputs": [
    {
     "name": "stdout",
     "output_type": "stream",
     "text": [
      "gendro.png image processed\n",
      "1/1 [==============================] - 0s 149ms/step\n"
     ]
    },
    {
     "data": {
      "image/png": "[encoded data removed]",
      "text/plain": [
       "<Figure size 1200x800 with 2 Axes>"
      ]
     },
     "metadata": {},
     "output_type": "display_data"
    }
   ],
   "source": [
    "demo_image_fe_pred(image_filename='gendro.png', model_filename='model_reduced_classes.h5')"
   ]
  }
 ],
 "metadata": {
  "kernelspec": {
   "display_name": "fp-venv",
   "language": "python",
   "name": "python3"
  },
  "language_info": {
   "codemirror_mode": {
    "name": "ipython",
    "version": 3
   },
   "file_extension": ".py",
   "mimetype": "text/x-python",
   "name": "python",
   "nbconvert_exporter": "python",
   "pygments_lexer": "ipython3",
   "version": "3.9.7"
  }
 },
 "nbformat": 4,
 "nbformat_minor": 2
}
