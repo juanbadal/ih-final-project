{
 "cells": [
  {
   "cell_type": "code",
   "execution_count": 1,
   "metadata": {},
   "outputs": [
    {
     "name": "stdout",
     "output_type": "stream",
     "text": [
      "WARNING:tensorflow:From c:\\Users\\Juan\\Documents\\Ironhack\\Week_9\\ih-final-project\\fp-venv\\Lib\\site-packages\\keras\\src\\losses.py:2976: The name tf.losses.sparse_softmax_cross_entropy is deprecated. Please use tf.compat.v1.losses.sparse_softmax_cross_entropy instead.\n",
      "\n"
     ]
    }
   ],
   "source": [
    "import numpy as np\n",
    "import pandas as pd\n",
    "import tensorflow as tf\n",
    "import matplotlib.pyplot as plt\n",
    "import seaborn as sns\n",
    "from sklearn.metrics import classification_report, confusion_matrix, cohen_kappa_score\n",
    "from sklearn.model_selection import train_test_split\n",
    "from sklearn.preprocessing import MinMaxScaler\n",
    "import os\n",
    "import pickle\n",
    "from PIL import Image\n",
    "from tensorflow.keras import layers, models\n",
    "from tensorflow.keras.optimizers import Adam\n",
    "from tensorflow.keras.losses import SparseCategoricalCrossentropy, BinaryCrossentropy\n",
    "from tensorflow.keras.metrics import SparseCategoricalAccuracy, Accuracy\n",
    "from tensorflow.keras.models import load_model\n"
   ]
  },
  {
   "cell_type": "code",
   "execution_count": 2,
   "metadata": {},
   "outputs": [],
   "source": [
    "# Function to load an image, resize to 96x96, convert to gray scale and save in desired path\n",
    "\n",
    "def load_process_save_image(filename: str,\n",
    "                       target_size: tuple=(96, 96),\n",
    "                       dir_path: str=r'C:\\Users\\Juan\\Documents\\Ironhack\\Week_9\\ih-final-project\\data\\cleaned\\new\\raw',\n",
    "                       output_path: str=r'C:\\Users\\Juan\\Documents\\Ironhack\\Week_9\\ih-final-project\\data\\cleaned\\new\\cleaned'):\n",
    "    '''\n",
    "    - Takes an image (filename) from dir_path\n",
    "    - Loads it into the notebook\n",
    "    - Resizes to 96x96 to fit with the rest of the data\n",
    "    - Transforms into grayscale\n",
    "    - Saves the transformed image in output_path\n",
    "    '''\n",
    "    # Create output_path if it does not exist\n",
    "    if not os.path.exists(output_path):\n",
    "        os.makedirs(output_path)\n",
    "\n",
    "    if filename.endswith('.jpg') or filename.endswith('.jpeg') or filename.endswith('.png'):\n",
    "        img_path = os.path.join(dir_path, filename)\n",
    "        img = Image.open(img_path)\n",
    "\n",
    "        # Resize image to 96x96\n",
    "        img_resized = img.resize(target_size)\n",
    "\n",
    "        # Convert image to grayscale\n",
    "        img_grayscale = img_resized.convert('L')\n",
    "\n",
    "        # Save image in output_path\n",
    "        output_filename = os.path.join(output_path, filename)\n",
    "        img_grayscale.save(output_filename)\n",
    "\n",
    "    print(f'{filename} image processed')\n"
   ]
  },
  {
   "cell_type": "code",
   "execution_count": 3,
   "metadata": {},
   "outputs": [
    {
     "name": "stdout",
     "output_type": "stream",
     "text": [
      "juan-happy.png image processed\n"
     ]
    }
   ],
   "source": [
    "# Applying function to juan-happy image\n",
    "\n",
    "load_process_save_image('juan-happy.png')"
   ]
  },
  {
   "cell_type": "code",
   "execution_count": 4,
   "metadata": {},
   "outputs": [],
   "source": [
    "# Function to convert the image into an array with pixel values\n",
    "\n",
    "def image_to_array(filename: str,\n",
    "                   dir_path: str=r'C:\\Users\\Juan\\Documents\\Ironhack\\Week_9\\ih-final-project\\data\\cleaned\\new\\cleaned') -> np.array:\n",
    "    '''\n",
    "    Converts image file into pixel values as a numpy array.\n",
    "    Each element of the array equals to the value of a pixel, from top left to bottom right of the image.\n",
    "    '''\n",
    "    filepath = os.path.join(dir_path, filename)\n",
    "    \n",
    "    img = Image.open(filepath)\n",
    "\n",
    "    image_data = np.array(img)\n",
    "\n",
    "    image_data_flattened = image_data.ravel()\n",
    "\n",
    "    return image_data_flattened"
   ]
  },
  {
   "cell_type": "code",
   "execution_count": 5,
   "metadata": {},
   "outputs": [
    {
     "data": {
      "text/plain": [
       "array([195, 194, 193, ...,   0,   0,   0], dtype=uint8)"
      ]
     },
     "execution_count": 5,
     "metadata": {},
     "output_type": "execute_result"
    }
   ],
   "source": [
    "# Applying previous function\n",
    "\n",
    "juan_happy_array = image_to_array('juan-happy.png')\n",
    "juan_happy_array"
   ]
  },
  {
   "cell_type": "code",
   "execution_count": 6,
   "metadata": {},
   "outputs": [],
   "source": [
    "# Function to load a pickle scaler\n",
    "\n",
    "def load_pickle_scaler(scaler_filename: str, dir_path_scalers: str=r'C:\\Users\\Juan\\Documents\\Ironhack\\Week_9\\ih-final-project\\scalers'):\n",
    "    '''\n",
    "    Loads a scaler saved as a .pkl file.\n",
    "    '''\n",
    "    scaler_path = os.path.join(dir_path_scalers, scaler_filename)\n",
    "    \n",
    "    with open (scaler_path, 'rb') as file:\n",
    "        scaler = pickle.load(file)\n",
    "    \n",
    "    return scaler"
   ]
  },
  {
   "cell_type": "code",
   "execution_count": 7,
   "metadata": {},
   "outputs": [
    {
     "name": "stderr",
     "output_type": "stream",
     "text": [
      "c:\\Users\\Juan\\Documents\\Ironhack\\Week_9\\ih-final-project\\fp-venv\\Lib\\site-packages\\sklearn\\base.py:493: UserWarning: X does not have valid feature names, but MinMaxScaler was fitted with feature names\n",
      "  warnings.warn(\n"
     ]
    },
    {
     "data": {
      "text/plain": [
       "(1, 96, 96, 1)"
      ]
     },
     "execution_count": 7,
     "metadata": {},
     "output_type": "execute_result"
    }
   ],
   "source": [
    "# Loading pkl scaler and scaling new image data\n",
    "\n",
    "scaler = load_pickle_scaler('minmaxscaler.pkl')\n",
    "\n",
    "juan_happy_array_reshaped = juan_happy_array.reshape(1, -1)\n",
    "\n",
    "juan_happy_array_scaled = scaler.transform(juan_happy_array_reshaped)\n",
    "\n",
    "juan_happy_array_reshaped_model = juan_happy_array_scaled.reshape((-1, 96, 96, 1))\n",
    "\n",
    "juan_happy_array_reshaped_model.shape"
   ]
  },
  {
   "cell_type": "code",
   "execution_count": 8,
   "metadata": {},
   "outputs": [],
   "source": [
    "# Function to load a HDF5 model\n",
    "\n",
    "def load_h5_model(model_filename: str, dir_path_models: str=r'C:\\Users\\Juan\\Documents\\Ironhack\\Week_9\\ih-final-project\\models'):\n",
    "    '''\n",
    "    Loads a scaler saved as a HDF5 file.\n",
    "    '''\n",
    "    model_path = os.path.join(dir_path_models, model_filename)\n",
    "    \n",
    "    model = load_model(model_path)\n",
    "    \n",
    "    return model"
   ]
  },
  {
   "cell_type": "code",
   "execution_count": 10,
   "metadata": {},
   "outputs": [],
   "source": [
    "labels = ['anger', 'contempt', 'disgust', 'fear', 'happy', 'neutral', 'sad', 'surprise']"
   ]
  },
  {
   "cell_type": "code",
   "execution_count": 9,
   "metadata": {},
   "outputs": [
    {
     "name": "stdout",
     "output_type": "stream",
     "text": [
      "WARNING:tensorflow:From c:\\Users\\Juan\\Documents\\Ironhack\\Week_9\\ih-final-project\\fp-venv\\Lib\\site-packages\\keras\\src\\backend.py:1398: The name tf.executing_eagerly_outside_functions is deprecated. Please use tf.compat.v1.executing_eagerly_outside_functions instead.\n",
      "\n",
      "WARNING:tensorflow:From c:\\Users\\Juan\\Documents\\Ironhack\\Week_9\\ih-final-project\\fp-venv\\Lib\\site-packages\\keras\\src\\layers\\pooling\\max_pooling2d.py:161: The name tf.nn.max_pool is deprecated. Please use tf.nn.max_pool2d instead.\n",
      "\n",
      "1/1 [==============================] - 0s 99ms/step\n"
     ]
    },
    {
     "ename": "NameError",
     "evalue": "name 'labels' is not defined",
     "output_type": "error",
     "traceback": [
      "\u001b[1;31m---------------------------------------------------------------------------\u001b[0m",
      "\u001b[1;31mNameError\u001b[0m                                 Traceback (most recent call last)",
      "Cell \u001b[1;32mIn[9], line 9\u001b[0m\n\u001b[0;32m      5\u001b[0m juan_happy_array_pred \u001b[38;5;241m=\u001b[39m model_conv\u001b[38;5;241m.\u001b[39mpredict(juan_happy_array_reshaped_model)\n\u001b[0;32m      7\u001b[0m label_pred \u001b[38;5;241m=\u001b[39m np\u001b[38;5;241m.\u001b[39margmax(juan_happy_array_pred)\n\u001b[1;32m----> 9\u001b[0m emotion \u001b[38;5;241m=\u001b[39m \u001b[43mlabels\u001b[49m[label_pred]\n\u001b[0;32m     11\u001b[0m emotion\n",
      "\u001b[1;31mNameError\u001b[0m: name 'labels' is not defined"
     ]
    }
   ],
   "source": [
    "# Getting predicted label for new data\n",
    "\n",
    "model_conv = load_h5_model('model1.h5')\n",
    "\n",
    "juan_happy_array_pred = model_conv.predict(juan_happy_array_reshaped_model)\n",
    "\n",
    "label_pred = np.argmax(juan_happy_array_pred)\n",
    "\n",
    "emotion = labels[label_pred]\n",
    "\n",
    "emotion"
   ]
  }
 ],
 "metadata": {
  "kernelspec": {
   "display_name": "fp-venv",
   "language": "python",
   "name": "python3"
  },
  "language_info": {
   "codemirror_mode": {
    "name": "ipython",
    "version": 3
   },
   "file_extension": ".py",
   "mimetype": "text/x-python",
   "name": "python",
   "nbconvert_exporter": "python",
   "pygments_lexer": "ipython3",
   "version": "3.11.5"
  }
 },
 "nbformat": 4,
 "nbformat_minor": 2
}
