{
 "cells": [
  {
   "cell_type": "code",
   "execution_count": 99,
   "metadata": {},
   "outputs": [],
   "source": [
    "import numpy as np\n",
    "import pandas as pd\n",
    "import tensorflow as tf\n",
    "import matplotlib.pyplot as plt\n",
    "import seaborn as sns\n",
    "import os\n",
    "import pickle\n",
    "from PIL import Image\n",
    "from tensorflow.keras.models import load_model"
   ]
  },
  {
   "cell_type": "code",
   "execution_count": 100,
   "metadata": {},
   "outputs": [],
   "source": [
    "# Function to load an image, resize to 96x96, convert to gray scale and save in desired path\n",
    "\n",
    "def load_process_save_image(filename: str,\n",
    "                       target_size: tuple=(48, 48),\n",
    "                       dir_path: str='./../data/raw/new_images/',\n",
    "                       output_path: str='./../data/cleaned/new_images/'):\n",
    "    '''\n",
    "    - Takes an image (filename) from dir_path\n",
    "    - Loads it into the notebook\n",
    "    - Resizes to 96x96 to fit with the rest of the data\n",
    "    - Transforms into grayscale\n",
    "    - Saves the transformed image in output_path\n",
    "    '''\n",
    "    # Create output_path if it does not exist\n",
    "    if not os.path.exists(output_path):\n",
    "        os.makedirs(output_path)\n",
    "\n",
    "    if filename.endswith('.jpg') or filename.endswith('.jpeg') or filename.endswith('.png'):\n",
    "        img_path = os.path.join(dir_path, filename)\n",
    "        img = Image.open(img_path)\n",
    "\n",
    "        # Resize image to 48x48\n",
    "        img_resized = img.resize(target_size)\n",
    "\n",
    "        # Convert image to grayscale\n",
    "        img_grayscale = img_resized.convert('L')\n",
    "\n",
    "        # Save image in output_path\n",
    "        output_filename = os.path.join(output_path, filename)\n",
    "        img_grayscale.save(output_filename)\n",
    "\n",
    "    print(f'{filename} image processed')\n"
   ]
  },
  {
   "cell_type": "code",
   "execution_count": 101,
   "metadata": {},
   "outputs": [
    {
     "name": "stdout",
     "output_type": "stream",
     "text": [
      "xdd.png image processed\n"
     ]
    }
   ],
   "source": [
    "# Applying function to  image\n",
    "\n",
    "image_name = 'xdd.png'\n",
    "\n",
    "load_process_save_image(image_name)"
   ]
  },
  {
   "cell_type": "code",
   "execution_count": 102,
   "metadata": {},
   "outputs": [],
   "source": [
    "# Function to convert the image into an array with pixel values\n",
    "\n",
    "def image_to_array(filename: str,\n",
    "                   dir_path: str='./../data/cleaned/new_images/') -> np.array:\n",
    "    '''\n",
    "    Converts image file into pixel values as a numpy array.\n",
    "    Each element of the array equals to the value of a pixel, from top left to bottom right of the image.\n",
    "    '''\n",
    "    filepath = os.path.join(dir_path, filename)\n",
    "    \n",
    "    img = Image.open(filepath)\n",
    "\n",
    "    image_data = np.array(img)\n",
    "\n",
    "    image_data_flattened = image_data.ravel()\n",
    "\n",
    "    return image_data_flattened"
   ]
  },
  {
   "cell_type": "code",
   "execution_count": 103,
   "metadata": {},
   "outputs": [
    {
     "data": {
      "text/plain": [
       "array([ 57,  59,  64, ..., 117, 107,  86], dtype=uint8)"
      ]
     },
     "execution_count": 103,
     "metadata": {},
     "output_type": "execute_result"
    }
   ],
   "source": [
    "# Applying previous function\n",
    "\n",
    "image_array = image_to_array(image_name)\n",
    "image_array"
   ]
  },
  {
   "cell_type": "code",
   "execution_count": 104,
   "metadata": {},
   "outputs": [],
   "source": [
    "# Function to load a pickle scaler\n",
    "\n",
    "# def load_pickle_scaler(scaler_filename: str, dir_path_scalers: str=r'C:\\Users\\Juan\\Documents\\Ironhack\\Week_9\\ih-final-project\\scalers'):\n",
    "#     '''\n",
    "#     Loads a scaler saved as a .pkl file.\n",
    "#     '''\n",
    "#     scaler_path = os.path.join(dir_path_scalers, scaler_filename)\n",
    "    \n",
    "#     with open (scaler_path, 'rb') as file:\n",
    "#         scaler = pickle.load(file)\n",
    "    \n",
    "#     return scaler"
   ]
  },
  {
   "cell_type": "code",
   "execution_count": 105,
   "metadata": {},
   "outputs": [],
   "source": [
    "# Loading pkl scaler and scaling new image data\n",
    "\n",
    "# scaler = load_pickle_scaler('minmaxscaler.pkl')\n",
    "\n",
    "# juan_happy_array_reshaped = juan_happy_array.reshape(1, -1)\n",
    "\n",
    "# juan_happy_array_scaled = scaler.transform(juan_happy_array_reshaped)\n",
    "\n",
    "# juan_happy_array_reshaped_model = juan_happy_array_scaled.reshape((-1, 96, 96, 1))\n",
    "\n",
    "# juan_happy_array_reshaped_model.shape"
   ]
  },
  {
   "cell_type": "code",
   "execution_count": 106,
   "metadata": {},
   "outputs": [],
   "source": [
    "def normalize(value):\n",
    "    return value/255"
   ]
  },
  {
   "cell_type": "code",
   "execution_count": 107,
   "metadata": {},
   "outputs": [],
   "source": [
    "# Normalizing and reshaping image data\n",
    "\n",
    "image_array_normalized = normalize(image_array)\n",
    "\n",
    "image_array_reshaped = image_array_normalized.reshape((-1, 48, 48, 1))"
   ]
  },
  {
   "cell_type": "code",
   "execution_count": 108,
   "metadata": {},
   "outputs": [],
   "source": [
    "# Function to load a HDF5 model\n",
    "\n",
    "def load_h5_model(model_filename: str, dir_path_models: str=r'C:\\Users\\Juan\\Documents\\Ironhack\\Week_9\\ih-final-project\\models'):\n",
    "    '''\n",
    "    Loads a scaler saved as a HDF5 file.\n",
    "    '''\n",
    "    model_path = os.path.join(dir_path_models, model_filename)\n",
    "    \n",
    "    model = load_model(model_path)\n",
    "    \n",
    "    return model"
   ]
  },
  {
   "cell_type": "code",
   "execution_count": 109,
   "metadata": {},
   "outputs": [],
   "source": [
    "labels = ['anger', 'contempt', 'disgust', 'fear', 'happiness', 'neutral', 'sadness', 'surprise']"
   ]
  },
  {
   "cell_type": "code",
   "execution_count": 110,
   "metadata": {},
   "outputs": [
    {
     "name": "stdout",
     "output_type": "stream",
     "text": [
      "1/1 [==============================] - 0s 80ms/step\n"
     ]
    },
    {
     "data": {
      "text/plain": [
       "'happiness'"
      ]
     },
     "execution_count": 110,
     "metadata": {},
     "output_type": "execute_result"
    }
   ],
   "source": [
    "# Getting predicted label for new data\n",
    "\n",
    "model_conv = load_h5_model('model1.h5')\n",
    "\n",
    "image_array_pred = model_conv.predict(image_array_reshaped)\n",
    "\n",
    "label_pred = np.argmax(image_array_pred)\n",
    "\n",
    "emotion = labels[label_pred]\n",
    "\n",
    "emotion"
   ]
  },
  {
   "cell_type": "code",
   "execution_count": 132,
   "metadata": {},
   "outputs": [
    {
     "data": {
      "image/png": "[encoded data removed]",
      "text/plain": [
       "<Figure size 1200x800 with 2 Axes>"
      ]
     },
     "metadata": {},
     "output_type": "display_data"
    }
   ],
   "source": [
    "images_dir = './../data/cleaned/new_images/'\n",
    "image_filepath = os.path.join(images_dir, image_name)\n",
    "image_to_plot = Image.open(image_filepath)\n",
    "\n",
    "fig, axes = plt.subplots(1, 2, figsize=(12, 8), gridspec_kw={'width_ratios': [2, 5]})\n",
    "\n",
    "axes[0].imshow(image_to_plot, cmap='gray')\n",
    "axes[0].set_title('Image')\n",
    "\n",
    "sns.barplot(x=labels, y=image_array_pred[0], hue=labels, palette='Set2', ax=axes[1])\n",
    "axes[1].set_title('Predictions')\n",
    "plt.show()"
   ]
  }
 ],
 "metadata": {
  "kernelspec": {
   "display_name": "fp-venv",
   "language": "python",
   "name": "python3"
  },
  "language_info": {
   "codemirror_mode": {
    "name": "ipython",
    "version": 3
   },
   "file_extension": ".py",
   "mimetype": "text/x-python",
   "name": "python",
   "nbconvert_exporter": "python",
   "pygments_lexer": "ipython3",
   "version": "3.9.7"
  }
 },
 "nbformat": 4,
 "nbformat_minor": 2
}
