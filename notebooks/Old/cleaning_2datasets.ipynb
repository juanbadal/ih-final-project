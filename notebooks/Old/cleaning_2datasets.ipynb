{
 "cells": [
  {
   "cell_type": "code",
   "execution_count": 1,
   "metadata": {},
   "outputs": [],
   "source": [
    "import numpy as np\n",
    "import pandas as pd\n",
    "from PIL import Image\n",
    "import os\n",
    "import random\n",
    "import matplotlib.pyplot as plt\n",
    "import shutil\n",
    "import seaborn as sns\n",
    "import warnings\n",
    "\n",
    "warnings.filterwarnings(\"ignore\", category=UserWarning)\n",
    "warnings.filterwarnings(\"ignore\", category=FutureWarning)"
   ]
  },
  {
   "cell_type": "code",
   "execution_count": 2,
   "metadata": {},
   "outputs": [
    {
     "name": "stdout",
     "output_type": "stream",
     "text": [
      "anger processed.\n",
      "contempt processed.\n",
      "disgust processed.\n",
      "fear processed.\n",
      "happiness processed.\n",
      "neutral processed.\n",
      "sadness processed.\n",
      "surprise processed.\n"
     ]
    }
   ],
   "source": [
    "# Transforming all images into 48*48 grayscale images\n",
    "\n",
    "root_dir = './../data/raw/ferplus_affectnet/'\n",
    "desired_width = 48\n",
    "desired_height = 48\n",
    "\n",
    "for label in os.listdir(root_dir):\n",
    "    label_dir = os.path.join(root_dir, label)\n",
    "    \n",
    "    for img_file in os.listdir(label_dir):\n",
    "        img_path = os.path.join(label_dir, img_file)\n",
    "        \n",
    "        img = Image.open(img_path)\n",
    "        \n",
    "        # Converting image to grayscale if not already in grayscale\n",
    "        if img.mode != 'L':\n",
    "            img = img.convert('L')\n",
    "        \n",
    "        # Resizing image if it does not match desired size\n",
    "        if img.size != (desired_width, desired_height):\n",
    "            img = img.resize((desired_width, desired_height), Image.LANCZOS)\n",
    "            \n",
    "        img.save(img_path)\n",
    "        \n",
    "    print(f'{label} processed.')"
   ]
  },
  {
   "cell_type": "code",
   "execution_count": 3,
   "metadata": {},
   "outputs": [
    {
     "name": "stdout",
     "output_type": "stream",
     "text": [
      "anger done.\n",
      "contempt done.\n",
      "disgust done.\n",
      "fear done.\n",
      "happiness done.\n",
      "neutral done.\n",
      "sadness done.\n",
      "surprise done.\n",
      "Data split completed.\n"
     ]
    }
   ],
   "source": [
    "# Splitting images into train/val/test folders\n",
    "\n",
    "data_dir = './../data/raw/ferplus_affectnet/'\n",
    "train_dir = './../data/cleaned/ferplus_affectnet/train/'\n",
    "test_dir = './../data/cleaned/ferplus_affectnet/test/'\n",
    "\n",
    "# Split ratios\n",
    "train_ratio = 0.80\n",
    "\n",
    "for label in os.listdir(data_dir):\n",
    "    label_dir = os.path.join(data_dir, label)\n",
    "    \n",
    "    # Creating directories for each label\n",
    "    os.makedirs(os.path.join(train_dir, label), exist_ok=True)\n",
    "    os.makedirs(os.path.join(test_dir, label), exist_ok=True)\n",
    "    \n",
    "    images = os.listdir(label_dir)\n",
    "\n",
    "    # Shuffling images\n",
    "    random.shuffle(images)\n",
    "\n",
    "    # Calculating the split indices\n",
    "    num_images = len(images)\n",
    "    train_split_index = int(num_images * train_ratio)\n",
    "    \n",
    "    # Splitting images\n",
    "    train_images = images[:train_split_index]\n",
    "    test_images = images[train_split_index:]\n",
    "    \n",
    "    # Copying images to each directory\n",
    "    for img in train_images:\n",
    "        src = os.path.join(label_dir, img)\n",
    "        dest = os.path.join(train_dir, label, img)\n",
    "        shutil.copy(src, dest)\n",
    "    \n",
    "    for img in test_images:\n",
    "        src = os.path.join(label_dir, img)\n",
    "        dest = os.path.join(test_dir, label, img)\n",
    "        shutil.copy(src, dest)\n",
    "    \n",
    "    print(f'{label} done.')\n",
    "    \n",
    "print('Data split completed.')"
   ]
  },
  {
   "cell_type": "code",
   "execution_count": 15,
   "metadata": {},
   "outputs": [],
   "source": [
    "def image_dataframe(data_dir):\n",
    "    '''\n",
    "    Iterates over an image folder in which each subfolders represents a label and creates a dataframe with file names and label.\n",
    "    '''\n",
    "    file_names = []\n",
    "    labels = []\n",
    "\n",
    "    # Iterating over subfolders\n",
    "    for label_idx, label_folder in enumerate(sorted(os.listdir(data_dir))):\n",
    "        label_path = os.path.join(data_dir, label_folder)\n",
    "        if os.path.isdir(label_path):\n",
    "            # Iterating over files each subfolder\n",
    "            for file_name in sorted(os.listdir(label_path)):\n",
    "                file_names.append(file_name)\n",
    "                labels.append(label_folder)\n",
    "\n",
    "    # Creating df\n",
    "    df = pd.DataFrame({'filename': file_names, 'label': labels})\n",
    "    return df"
   ]
  },
  {
   "cell_type": "code",
   "execution_count": 16,
   "metadata": {},
   "outputs": [],
   "source": [
    "# Creating train and test dfs with previous function\n",
    "\n",
    "train_df = image_dataframe('./../data/cleaned/ferplus_affectnet/train/')\n",
    "test_df = image_dataframe('./../data/cleaned/ferplus_affectnet/test/')"
   ]
  },
  {
   "cell_type": "code",
   "execution_count": 17,
   "metadata": {},
   "outputs": [
    {
     "data": {
      "text/plain": [
       "((37917, 2), (9484, 2))"
      ]
     },
     "execution_count": 17,
     "metadata": {},
     "output_type": "execute_result"
    }
   ],
   "source": [
    "# Checking df shape\n",
    "\n",
    "train_df.shape, test_df.shape"
   ]
  },
  {
   "cell_type": "code",
   "execution_count": 18,
   "metadata": {},
   "outputs": [
    {
     "data": {
      "image/png": "[encoded data removed]",
      "text/plain": [
       "<Figure size 640x480 with 1 Axes>"
      ]
     },
     "metadata": {},
     "output_type": "display_data"
    }
   ],
   "source": [
    "# Checking class distribution\n",
    "\n",
    "counts = train_df['label'].value_counts().sort_values(ascending=False)\n",
    "\n",
    "sns.countplot(y=train_df['label'], hue=train_df['label'], order=counts.index, palette='Set2')\n",
    "plt.show()"
   ]
  },
  {
   "cell_type": "code",
   "execution_count": 19,
   "metadata": {},
   "outputs": [],
   "source": [
    "# Function to plot random image from train dataframe\n",
    "\n",
    "def plot_random_image_train(dataframe: pd.DataFrame=train_df):\n",
    "    '''\n",
    "    Plots a random image from a dataframe with image file names and labels.\n",
    "    '''\n",
    "    random_row = dataframe.sample(n=1).iloc[0]\n",
    "\n",
    "    file_name = random_row['filename']\n",
    "    label = random_row['label']\n",
    "\n",
    "    data_dir = f'./../data/cleaned/ferplus_affectnet/train/{label}/'\n",
    "\n",
    "    # Loading image\n",
    "    image_path = os.path.join(data_dir, file_name)\n",
    "    image = Image.open(image_path)\n",
    "\n",
    "    # Plotting image\n",
    "    plt.imshow(np.array(image), cmap='gray')\n",
    "    plt.title(f'Label: {label}')\n",
    "    plt.axis('off')\n",
    "    plt.show()"
   ]
  },
  {
   "cell_type": "code",
   "execution_count": 25,
   "metadata": {},
   "outputs": [
    {
     "data": {
      "image/png": "[encoded data removed]",
      "text/plain": [
       "<Figure size 640x480 with 1 Axes>"
      ]
     },
     "metadata": {},
     "output_type": "display_data"
    }
   ],
   "source": [
    "# Plotting random image with previous function\n",
    "\n",
    "plot_random_image_train(train_df)"
   ]
  },
  {
   "cell_type": "code",
   "execution_count": 26,
   "metadata": {},
   "outputs": [],
   "source": [
    "# Saving dfs as csv\n",
    "\n",
    "train_df.to_csv('./../data/cleaned/train.csv', index=False)\n",
    "test_df.to_csv('./../data/cleaned/test.csv', index=False)"
   ]
  }
 ],
 "metadata": {
  "kernelspec": {
   "display_name": "fp-venv",
   "language": "python",
   "name": "python3"
  },
  "language_info": {
   "codemirror_mode": {
    "name": "ipython",
    "version": 3
   },
   "file_extension": ".py",
   "mimetype": "text/x-python",
   "name": "python",
   "nbconvert_exporter": "python",
   "pygments_lexer": "ipython3",
   "version": "3.9.7"
  }
 },
 "nbformat": 4,
 "nbformat_minor": 2
}
